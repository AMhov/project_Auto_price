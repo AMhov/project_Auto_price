{
 "cells": [
  {
   "cell_type": "markdown",
   "metadata": {},
   "source": [
    "# Помощник в определении стоимости лота на японском автоаукционе"
   ]
  },
  {
   "cell_type": "markdown",
   "metadata": {},
   "source": [
    "В чем заключается выбор машины на японском аукционе для российского покупателя? По факту надо рассмотреть все машины, которые предлагают несколько аукционов для покупки на следующие несколько дней, выбрать те на которые хотите сделать ставку, и \"угадать\" правильную ставку. Количество ставок в день не более 5.   \n",
    "Сложность в поиске компромисса. Если сделать большую ставку на машину с плохими характеристиками, то эта ставка сыграет сразу, но стоимость будет великовата для качества покупки, а если делать заниженные ставки, то можно играть очень долго, надеясь получить даром \"коллекционный\" экземпляр.  \n",
    "Есть различные инструкции, как правильно выбирать, какие ставки делать, какие лоты смотреть в первую очередь. В оценке лота, всегда даются минимальная, максимальная и средняя стоимость продажи таких машин за какой-то период. И есть статистика продаж машин за последние 3 месяца. Все это помогает оценить машину очень приблизительно, но расчет самой ставки остается за покупателем, и чтобы начать более-меннее правильно оценивать, проходит, не меньше месяца.  \n",
    "Мы имеем набор данных о продажах машин с  их характеристиками за последние 3 месяца, с целевой переменной - стоимость продажи и также имеем несколько машин с их характеристиками, у которых надо определить эту стоимость. Задача контролируемого обучения - линейной регрессии.\n",
    "Если получится построить хорошую модель, то мы сможем достаточно быстро определять предполагаемую стоимость продажи такой машины и делать правильные ставки с первого дня на аукционе."
   ]
  },
  {
   "cell_type": "code",
   "execution_count": 126,
   "metadata": {},
   "outputs": [],
   "source": [
    "import numpy as np\n",
    "import pandas as pd\n",
    "import matplotlib.pyplot as plt\n",
    "import seaborn as sns\n",
    "import re\n",
    "from sklearn.preprocessing import StandardScaler \n",
    "\n",
    "import warnings\n",
    "warnings.filterwarnings(\"ignore\")"
   ]
  },
  {
   "cell_type": "code",
   "execution_count": 127,
   "metadata": {},
   "outputs": [],
   "source": [
    "hf = pd.read_excel('auc08_07.xlsx')\n",
    "ht = pd.read_excel('auc11_07.xlsx')"
   ]
  },
  {
   "cell_type": "code",
   "execution_count": 128,
   "metadata": {},
   "outputs": [],
   "source": [
    "#hf.columns"
   ]
  },
  {
   "cell_type": "code",
   "execution_count": 129,
   "metadata": {},
   "outputs": [],
   "source": [
    "# Выкинем лишние столбцы\n",
    "hf.drop(['date', 'lot', 'Unnamed: 3', 'Unnamed: 4', 'Unnamed: 5', 'Unnamed: 9', 'Unnamed: 10', 'Unnamed: 11',\n",
    "       'Unnamed: 13', 'Unnamed: 14', 'Unnamed: 15', 'Unnamed: 17'], axis=1, inplace=True)\n",
    "ht.drop(['date', 'lot', 'Unnamed: 3', 'Unnamed: 4', 'Unnamed: 5', 'Unnamed: 9', 'Unnamed: 10', 'Unnamed: 11',\n",
    "       'Unnamed: 13', 'Unnamed: 14', 'Unnamed: 15', 'Unnamed: 17'], axis=1, inplace=True)"
   ]
  },
  {
   "cell_type": "code",
   "execution_count": 130,
   "metadata": {},
   "outputs": [],
   "source": [
    "# Удалим строки с нулями в колонках цветов и модификаций\n",
    "hf.dropna(axis=0, subset=['color'], inplace=True)\n",
    "ht.dropna(axis=0, subset=['color'], inplace=True)\n",
    "\n",
    "hf.dropna(axis=0, subset=['mod'], inplace=True)\n",
    "ht.dropna(axis=0, subset=['mod'], inplace=True)\n",
    "\n",
    "hf.dropna(axis=0, subset=['score'], inplace=True)\n",
    "ht.dropna(axis=0, subset=['score'], inplace=True)"
   ]
  },
  {
   "cell_type": "code",
   "execution_count": 131,
   "metadata": {},
   "outputs": [],
   "source": [
    "# Заменим некоторые редкие и дублированные разноцветия\n",
    "# Хорошо бы сделать, как сделал с моделями, но отсекает немного данных\n",
    "hf['color'].replace(\"actual vehicle\", 'WHITE', inplace=True)\n",
    "hf['color'].replace(\"P WHITE\", 'WHITE', inplace=True)\n",
    "hf['color'].replace(\"LIGHT GREEN\", 'GREEN', inplace=True)\n",
    "hf['color'].replace(\"LIGHT BLUE\", 'BLUE', inplace=True)\n",
    "hf['color'].replace(\"NAVY BLUE\", 'BLUE', inplace=True)\n",
    "hf['color'].replace(\"WINE RED\", 'RED', inplace=True)\n",
    "hf['color'].replace(\"WINE\", 'RED', inplace=True)\n",
    "hf['color'].replace(\"CRYSTAL BLACK\", 'BLACK', inplace=True)\n",
    "\n",
    "ht['color'].replace(\"actual vehicle\", 'WHITE', inplace=True)\n",
    "ht['color'].replace(\"P WHITE\", 'WHITE', inplace=True)\n",
    "ht['color'].replace(\"LIGHT GREEN\", 'GREEN', inplace=True)\n",
    "ht['color'].replace(\"LIGHT BLUE\", 'BLUE', inplace=True)\n",
    "ht['color'].replace(\"NAVY BLUE\", 'BLUE', inplace=True)\n",
    "ht['color'].replace(\"WINE RED\", 'RED', inplace=True)\n",
    "ht['color'].replace(\"WINE\", 'RED', inplace=True)\n",
    "ht['color'].replace(\"CRYSTAL BLACK\", 'BLACK', inplace=True)"
   ]
  },
  {
   "cell_type": "code",
   "execution_count": 132,
   "metadata": {
    "scrolled": true
   },
   "outputs": [],
   "source": [
    "# В моделях наводим немного порядка, много всяких названий, по сути - 4 основных класса.\n",
    "# Красиво работают срезы!!!\n",
    "hf.loc[hf['mod'].str.contains('FA IN'), 'mod'] = 'FA IN LINE'\n",
    "\n",
    "ht.loc[ht['mod'].str.contains('FA IN'), 'mod'] = 'FA IN LINE'\n",
    "\n",
    "\n",
    "# Это оставил, чтобы сравнить. Так я делал, но это выбирает и изменяет, без оставления, не знаю куда inplace всунуть\n",
    "# hf[hf['mod'].str.contains('FA IN')]['mod'].apply(lambda m: 'FA IN LINE')"
   ]
  },
  {
   "cell_type": "code",
   "execution_count": 133,
   "metadata": {
    "scrolled": false
   },
   "outputs": [],
   "source": [
    "# Не надо менять местами, делаем по порядку, иначе присвоит классы неверно!\n",
    "hf.loc[hf['mod'].str.contains('NAVIGATION'), 'mod'] = 'PREM'\n",
    "hf.loc[hf['mod'].str.contains('PREM'), 'mod'] = 'PREM'\n",
    "\n",
    "ht.loc[ht['mod'].str.contains('NAVIGATION'), 'mod'] = 'PREM'\n",
    "ht.loc[ht['mod'].str.contains('PREM'), 'mod'] = 'PREM'"
   ]
  },
  {
   "cell_type": "code",
   "execution_count": 134,
   "metadata": {},
   "outputs": [],
   "source": [
    "# Продолжаем\n",
    "hf.loc[hf['mod'].str.contains('SMART'), 'mod'] = 'SMART'\n",
    "hf.loc[hf['mod'].str.contains('HYBRID'), 'mod'] = 'C'"
   ]
  },
  {
   "cell_type": "code",
   "execution_count": 135,
   "metadata": {},
   "outputs": [],
   "source": [
    "ht.loc[ht['mod'].str.contains('SMART'), 'mod'] = 'SMART'\n",
    "ht.loc[ht['mod'].str.contains('HYBRID'), 'mod'] = 'C'"
   ]
  },
  {
   "cell_type": "code",
   "execution_count": 136,
   "metadata": {},
   "outputs": [],
   "source": [
    "colors_new = [\n",
    " 'BLACK',\n",
    " 'BLUE',\n",
    " 'BLUE GREEN',\n",
    " 'BROWN',\n",
    " 'GRAY',\n",
    " 'PEARL WHITE',\n",
    " 'GREEN',\n",
    " 'PEARL',\n",
    " 'PURPLE',\n",
    " 'RED',\n",
    " 'SILVER',\n",
    " 'TEA',\n",
    " 'WHITE'\n",
    "]"
   ]
  },
  {
   "cell_type": "code",
   "execution_count": 137,
   "metadata": {},
   "outputs": [],
   "source": [
    "mods_new = [\n",
    " 'C',\n",
    " 'FA IN LINE',\n",
    " 'PREM',\n",
    " 'SMART'\n",
    "]"
   ]
  },
  {
   "cell_type": "code",
   "execution_count": 138,
   "metadata": {
    "scrolled": true
   },
   "outputs": [],
   "source": [
    "# Оставим в таблице только основные цвета\n",
    "hf1 = hf[hf['color'].apply(lambda color: color in colors_new)]\n",
    "\n",
    "ht1 = ht[ht['color'].apply(lambda color: color in colors_new)]\n",
    "\n",
    "# И основные модификации\n",
    "hf2 = hf1[hf1['mod'].apply(lambda mod: mod in mods_new)]\n",
    "\n",
    "ht2 = ht1[ht1['mod'].apply(lambda mod: mod in mods_new)]"
   ]
  },
  {
   "cell_type": "code",
   "execution_count": 139,
   "metadata": {
    "scrolled": true
   },
   "outputs": [
    {
     "data": {
      "text/plain": [
       "3.5    746\n",
       "R      285\n",
       "4      262\n",
       "3      174\n",
       "RA      53\n",
       "4.5     16\n",
       "2       15\n",
       "***      6\n",
       "-        6\n",
       "Name: score, dtype: int64"
      ]
     },
     "execution_count": 139,
     "metadata": {},
     "output_type": "execute_result"
    }
   ],
   "source": [
    "# Разбираемся с баллами\n",
    "# Понятно, что оценок выше 4 очень немного здесь, т.к. года и пробеги уже приличные для Япов\n",
    "hf2['score'].value_counts()"
   ]
  },
  {
   "cell_type": "code",
   "execution_count": 140,
   "metadata": {
    "scrolled": false
   },
   "outputs": [
    {
     "data": {
      "text/html": [
       "<div>\n",
       "<style scoped>\n",
       "    .dataframe tbody tr th:only-of-type {\n",
       "        vertical-align: middle;\n",
       "    }\n",
       "\n",
       "    .dataframe tbody tr th {\n",
       "        vertical-align: top;\n",
       "    }\n",
       "\n",
       "    .dataframe thead th {\n",
       "        text-align: right;\n",
       "    }\n",
       "</style>\n",
       "<table border=\"1\" class=\"dataframe\">\n",
       "  <thead>\n",
       "    <tr style=\"text-align: right;\">\n",
       "      <th></th>\n",
       "      <th>auc</th>\n",
       "      <th>mod</th>\n",
       "      <th>year</th>\n",
       "      <th>km</th>\n",
       "      <th>color</th>\n",
       "      <th>cost</th>\n",
       "      <th>score</th>\n",
       "    </tr>\n",
       "  </thead>\n",
       "  <tbody>\n",
       "    <tr>\n",
       "      <th>0</th>\n",
       "      <td>JU Gunma</td>\n",
       "      <td>PREM</td>\n",
       "      <td>2011</td>\n",
       "      <td>63 000</td>\n",
       "      <td>SILVER</td>\n",
       "      <td>542</td>\n",
       "      <td>4</td>\n",
       "    </tr>\n",
       "    <tr>\n",
       "      <th>1</th>\n",
       "      <td>ARAI Oyama</td>\n",
       "      <td>C</td>\n",
       "      <td>2013</td>\n",
       "      <td>210 000</td>\n",
       "      <td>SILVER</td>\n",
       "      <td>223</td>\n",
       "      <td>3.5</td>\n",
       "    </tr>\n",
       "  </tbody>\n",
       "</table>\n",
       "</div>"
      ],
      "text/plain": [
       "          auc   mod  year       km   color  cost score\n",
       "0    JU Gunma  PREM  2011   63 000  SILVER   542     4\n",
       "1  ARAI Oyama     C  2013  210 000  SILVER   223   3.5"
      ]
     },
     "execution_count": 140,
     "metadata": {},
     "output_type": "execute_result"
    }
   ],
   "source": [
    "hf2.head(2)"
   ]
  },
  {
   "cell_type": "code",
   "execution_count": 141,
   "metadata": {},
   "outputs": [
    {
     "data": {
      "text/html": [
       "<div>\n",
       "<style scoped>\n",
       "    .dataframe tbody tr th:only-of-type {\n",
       "        vertical-align: middle;\n",
       "    }\n",
       "\n",
       "    .dataframe tbody tr th {\n",
       "        vertical-align: top;\n",
       "    }\n",
       "\n",
       "    .dataframe thead th {\n",
       "        text-align: right;\n",
       "    }\n",
       "</style>\n",
       "<table border=\"1\" class=\"dataframe\">\n",
       "  <thead>\n",
       "    <tr style=\"text-align: right;\">\n",
       "      <th></th>\n",
       "      <th>auc</th>\n",
       "      <th>mod</th>\n",
       "      <th>year</th>\n",
       "      <th>km</th>\n",
       "      <th>color</th>\n",
       "      <th>cost</th>\n",
       "      <th>score</th>\n",
       "    </tr>\n",
       "  </thead>\n",
       "  <tbody>\n",
       "    <tr>\n",
       "      <th>0</th>\n",
       "      <td>TAA Yokohama</td>\n",
       "      <td>PREM</td>\n",
       "      <td>2012</td>\n",
       "      <td>102 000</td>\n",
       "      <td>GRAY</td>\n",
       "      <td>334</td>\n",
       "      <td>R</td>\n",
       "    </tr>\n",
       "    <tr>\n",
       "      <th>1</th>\n",
       "      <td>TAA Yokohama</td>\n",
       "      <td>SMART</td>\n",
       "      <td>2011</td>\n",
       "      <td>96 000</td>\n",
       "      <td>BLACK</td>\n",
       "      <td>160</td>\n",
       "      <td>2</td>\n",
       "    </tr>\n",
       "  </tbody>\n",
       "</table>\n",
       "</div>"
      ],
      "text/plain": [
       "            auc    mod  year       km  color  cost score\n",
       "0  TAA Yokohama   PREM  2012  102 000   GRAY   334     R\n",
       "1  TAA Yokohama  SMART  2011   96 000  BLACK   160     2"
      ]
     },
     "execution_count": 141,
     "metadata": {},
     "output_type": "execute_result"
    }
   ],
   "source": [
    "ht2.head(2)"
   ]
  },
  {
   "cell_type": "code",
   "execution_count": 142,
   "metadata": {},
   "outputs": [],
   "source": [
    "hf2.loc[hf2['auc'].str.contains('Honda'), 'auc'] = 'Honda'\n",
    "hf2.loc[hf2['auc'].str.contains('TAA'), 'auc'] = 'Toyota'\n",
    "hf2.loc[hf2['auc'].str.contains('CAA'), 'auc'] = 'CAA'\n",
    "hf2.loc[hf2['auc'].str.contains('JU'), 'auc'] = 'JU'\n",
    "hf2.loc[hf2['auc'].str.contains('KCAA'), 'auc'] = 'KCAA'\n",
    "hf2.loc[hf2['auc'].str.contains('ARAI'), 'auc'] = 'Arai'\n",
    "hf2.loc[hf2['auc'].str.contains('LAA'), 'auc'] = 'LAA'\n",
    "hf2.loc[hf2['auc'].str.contains('ORIX'), 'auc'] = 'Orix'\n",
    "hf2.loc[hf2['auc'].str.contains('NAA'), 'auc'] = 'Nissan'\n",
    "hf2.loc[hf2['auc'].str.contains('MIRIVE'), 'auc'] = 'Mirive'\n",
    "\n",
    "ht2.loc[ht2['auc'].str.contains('Honda'), 'auc'] = 'Honda'\n",
    "ht2.loc[ht2['auc'].str.contains('TAA'), 'auc'] = 'Toyota'\n",
    "ht2.loc[ht2['auc'].str.contains('CAA'), 'auc'] = 'CAA'\n",
    "ht2.loc[ht2['auc'].str.contains('JU'), 'auc'] = 'JU'\n",
    "ht2.loc[ht2['auc'].str.contains('KCAA'), 'auc'] = 'KCAA'\n",
    "ht2.loc[ht2['auc'].str.contains('ARAI'), 'auc'] = 'Arai'\n",
    "ht2.loc[ht2['auc'].str.contains('LAA'), 'auc'] = 'LAA'\n",
    "ht2.loc[ht2['auc'].str.contains('ORIX'), 'auc'] = 'Orix'\n",
    "ht2.loc[ht2['auc'].str.contains('NAA'), 'auc'] = 'Nissan'\n",
    "ht2.loc[ht2['auc'].str.contains('MIRIVE'), 'auc'] = 'Mirive'"
   ]
  },
  {
   "cell_type": "code",
   "execution_count": 143,
   "metadata": {
    "scrolled": false
   },
   "outputs": [
    {
     "data": {
      "text/plain": [
       "Honda          481\n",
       "Mirive         246\n",
       "JU             240\n",
       "Toyota         229\n",
       "CAA            140\n",
       "Arai            90\n",
       "Orix            53\n",
       "Nissan          21\n",
       "LAA             15\n",
       "BAYAUC          12\n",
       "AUCNET          11\n",
       "IAA Osaka        8\n",
       "SAA Sapporo      7\n",
       "HERO             4\n",
       "ZERO Osaka       3\n",
       "ZERO Syonan      2\n",
       "ZIP Tokyo        1\n",
       "Name: auc, dtype: int64"
      ]
     },
     "execution_count": 143,
     "metadata": {},
     "output_type": "execute_result"
    }
   ],
   "source": [
    "# Нет смысла тянуть аукционы, где менее 10 машин продано при таком общем количестве машин\n",
    "hf2['auc'].value_counts()"
   ]
  },
  {
   "cell_type": "code",
   "execution_count": 144,
   "metadata": {},
   "outputs": [],
   "source": [
    "# Так оставили только 11 аукционов, т.е. 11 категорий\n",
    "aucs = pd.DataFrame(hf2['auc'].value_counts())\n",
    "auc_10 = aucs[aucs.auc > 10].T.columns\n",
    "\n",
    "hf3 = hf2[hf2['auc'].apply(lambda a: a in auc_10)]\n",
    "\n",
    "ht3 = ht2[ht2['auc'].apply(lambda a: a in auc_10)]"
   ]
  },
  {
   "cell_type": "code",
   "execution_count": 145,
   "metadata": {
    "scrolled": true
   },
   "outputs": [],
   "source": [
    "# Меняем тип данных в км. Стр на инт\n",
    "hf3['km'] = hf3['km'].apply(lambda km: int(re.findall(r'\\d+', km)[0]))\n",
    "\n",
    "ht3['km'] = ht3['km'].apply(lambda km: int(re.findall(r'\\d+', km)[0]))"
   ]
  },
  {
   "cell_type": "code",
   "execution_count": 146,
   "metadata": {},
   "outputs": [],
   "source": [
    "# Тип данных в year на строчные, это будут заголовки после one-hot\n",
    "hf3['year'] = hf3['year'].astype(str)\n",
    "\n",
    "ht3['year'] = ht3['year'].astype(str)"
   ]
  },
  {
   "cell_type": "code",
   "execution_count": 147,
   "metadata": {
    "scrolled": true
   },
   "outputs": [
    {
     "data": {
      "text/html": [
       "<div>\n",
       "<style scoped>\n",
       "    .dataframe tbody tr th:only-of-type {\n",
       "        vertical-align: middle;\n",
       "    }\n",
       "\n",
       "    .dataframe tbody tr th {\n",
       "        vertical-align: top;\n",
       "    }\n",
       "\n",
       "    .dataframe thead th {\n",
       "        text-align: right;\n",
       "    }\n",
       "</style>\n",
       "<table border=\"1\" class=\"dataframe\">\n",
       "  <thead>\n",
       "    <tr style=\"text-align: right;\">\n",
       "      <th></th>\n",
       "      <th>auc</th>\n",
       "      <th>mod</th>\n",
       "      <th>year</th>\n",
       "      <th>km</th>\n",
       "      <th>color</th>\n",
       "      <th>cost</th>\n",
       "      <th>score</th>\n",
       "    </tr>\n",
       "  </thead>\n",
       "  <tbody>\n",
       "    <tr>\n",
       "      <th>0</th>\n",
       "      <td>JU</td>\n",
       "      <td>PREM</td>\n",
       "      <td>2011</td>\n",
       "      <td>63</td>\n",
       "      <td>SILVER</td>\n",
       "      <td>542</td>\n",
       "      <td>4</td>\n",
       "    </tr>\n",
       "    <tr>\n",
       "      <th>1</th>\n",
       "      <td>Arai</td>\n",
       "      <td>C</td>\n",
       "      <td>2013</td>\n",
       "      <td>210</td>\n",
       "      <td>SILVER</td>\n",
       "      <td>223</td>\n",
       "      <td>3.5</td>\n",
       "    </tr>\n",
       "  </tbody>\n",
       "</table>\n",
       "</div>"
      ],
      "text/plain": [
       "    auc   mod  year   km   color  cost score\n",
       "0    JU  PREM  2011   63  SILVER   542     4\n",
       "1  Arai     C  2013  210  SILVER   223   3.5"
      ]
     },
     "execution_count": 147,
     "metadata": {},
     "output_type": "execute_result"
    }
   ],
   "source": [
    "hf3.head(2)"
   ]
  },
  {
   "cell_type": "code",
   "execution_count": 148,
   "metadata": {
    "scrolled": true
   },
   "outputs": [
    {
     "data": {
      "text/plain": [
       "(7, 7)"
      ]
     },
     "execution_count": 148,
     "metadata": {},
     "output_type": "execute_result"
    }
   ],
   "source": [
    "ht3.shape"
   ]
  },
  {
   "cell_type": "code",
   "execution_count": 149,
   "metadata": {},
   "outputs": [
    {
     "data": {
      "text/html": [
       "<div>\n",
       "<style scoped>\n",
       "    .dataframe tbody tr th:only-of-type {\n",
       "        vertical-align: middle;\n",
       "    }\n",
       "\n",
       "    .dataframe tbody tr th {\n",
       "        vertical-align: top;\n",
       "    }\n",
       "\n",
       "    .dataframe thead th {\n",
       "        text-align: right;\n",
       "    }\n",
       "</style>\n",
       "<table border=\"1\" class=\"dataframe\">\n",
       "  <thead>\n",
       "    <tr style=\"text-align: right;\">\n",
       "      <th></th>\n",
       "      <th>auc</th>\n",
       "      <th>mod</th>\n",
       "      <th>year</th>\n",
       "      <th>km</th>\n",
       "      <th>color</th>\n",
       "      <th>cost</th>\n",
       "      <th>score</th>\n",
       "    </tr>\n",
       "  </thead>\n",
       "  <tbody>\n",
       "    <tr>\n",
       "      <th>0</th>\n",
       "      <td>Toyota</td>\n",
       "      <td>PREM</td>\n",
       "      <td>2012</td>\n",
       "      <td>102</td>\n",
       "      <td>GRAY</td>\n",
       "      <td>334</td>\n",
       "      <td>R</td>\n",
       "    </tr>\n",
       "    <tr>\n",
       "      <th>1</th>\n",
       "      <td>Toyota</td>\n",
       "      <td>SMART</td>\n",
       "      <td>2011</td>\n",
       "      <td>96</td>\n",
       "      <td>BLACK</td>\n",
       "      <td>160</td>\n",
       "      <td>2</td>\n",
       "    </tr>\n",
       "  </tbody>\n",
       "</table>\n",
       "</div>"
      ],
      "text/plain": [
       "      auc    mod  year   km  color  cost score\n",
       "0  Toyota   PREM  2012  102   GRAY   334     R\n",
       "1  Toyota  SMART  2011   96  BLACK   160     2"
      ]
     },
     "execution_count": 149,
     "metadata": {},
     "output_type": "execute_result"
    }
   ],
   "source": [
    "ht3.head(2)"
   ]
  },
  {
   "cell_type": "markdown",
   "metadata": {},
   "source": [
    "### Попробуем что-нибудь порисовать и понять"
   ]
  },
  {
   "cell_type": "code",
   "execution_count": 150,
   "metadata": {},
   "outputs": [],
   "source": [
    "# Обозначим категориальные колонки, числовая - 1 - km\n",
    "cat_col = ['auc', 'mod', 'year', 'color', 'score']"
   ]
  },
  {
   "cell_type": "code",
   "execution_count": 151,
   "metadata": {},
   "outputs": [],
   "source": [
    "featers = ['km', 'cost']"
   ]
  },
  {
   "cell_type": "code",
   "execution_count": 152,
   "metadata": {},
   "outputs": [
    {
     "data": {
      "image/png": "[encoded data removed]",
      "text/plain": [
       "<Figure size 432x216 with 2 Axes>"
      ]
     },
     "metadata": {
      "needs_background": "light"
     },
     "output_type": "display_data"
    }
   ],
   "source": [
    "hf3[featers].hist(figsize=(6, 3));"
   ]
  },
  {
   "cell_type": "code",
   "execution_count": 153,
   "metadata": {},
   "outputs": [
    {
     "data": {
      "image/png": "[encoded data removed]",
      "text/plain": [
       "<Figure size 432x288 with 2 Axes>"
      ]
     },
     "metadata": {
      "needs_background": "light"
     },
     "output_type": "display_data"
    }
   ],
   "source": [
    "hf3[featers].plot(kind='density', subplots=True);"
   ]
  },
  {
   "cell_type": "code",
   "execution_count": 154,
   "metadata": {
    "scrolled": true
   },
   "outputs": [
    {
     "data": {
      "image/png": "[encoded data removed]",
      "text/plain": [
       "<Figure size 432x288 with 1 Axes>"
      ]
     },
     "metadata": {
      "needs_background": "light"
     },
     "output_type": "display_data"
    }
   ],
   "source": [
    "plt.scatter(hf3['km'], hf3['cost']);"
   ]
  },
  {
   "cell_type": "code",
   "execution_count": 221,
   "metadata": {},
   "outputs": [
    {
     "data": {
      "image/png": "[encoded data removed]",
      "text/plain": [
       "<Figure size 1440x720 with 1 Axes>"
      ]
     },
     "metadata": {
      "needs_background": "light"
     },
     "output_type": "display_data"
    }
   ],
   "source": [
    "fig = plt.figure(figsize=(20, 10))\n",
    "ax = fig.add_subplot()\n",
    "\n",
    "#fig.set(facecolor = 'red')\n",
    "ax.set(facecolor = 'green')\n",
    "ax.set_xlim(0, 400)\n",
    "ax.set_ylim(0, 800)\n",
    "ax.set_xlabel(\"Пробег, km\")\n",
    "ax.set_ylabel(\"Цена, yen\")\n",
    "\n",
    "ax.scatter(hf3['km'], hf3['cost'], color=\"red\")\n",
    "\n",
    "# Это наш вариант (после лин рег)\n",
    "ax.scatter(np.arange(0, 400, 5), [370 for _ in range(np.size(np.arange(0, 400, 5)))], color=\"grey\")\n",
    "ax.scatter(np.arange(0, 400, 5), [420 for _ in range(np.size(np.arange(0, 400, 5)))], color=\"grey\")\n",
    "\n",
    "\n",
    "plt.show()"
   ]
  },
  {
   "cell_type": "code",
   "execution_count": 205,
   "metadata": {},
   "outputs": [
    {
     "data": {
      "text/plain": [
       "int"
      ]
     },
     "execution_count": 205,
     "metadata": {},
     "output_type": "execute_result"
    }
   ],
   "source": [
    "[3 for i in rangenp.size(np.arange(0, 400, 10)))"
   ]
  },
  {
   "cell_type": "code",
   "execution_count": 210,
   "metadata": {},
   "outputs": [],
   "source": [
    "v = [8 for i in range(5)]"
   ]
  },
  {
   "cell_type": "code",
   "execution_count": 211,
   "metadata": {},
   "outputs": [
    {
     "data": {
      "text/plain": [
       "[8, 8, 8, 8, 8]"
      ]
     },
     "execution_count": 211,
     "metadata": {},
     "output_type": "execute_result"
    }
   ],
   "source": [
    "v"
   ]
  },
  {
   "cell_type": "code",
   "execution_count": 156,
   "metadata": {},
   "outputs": [
    {
     "data": {
      "image/png": "[encoded data removed]",
      "text/plain": [
       "<Figure size 432x288 with 1 Axes>"
      ]
     },
     "metadata": {
      "needs_background": "light"
     },
     "output_type": "display_data"
    }
   ],
   "source": [
    "sns.boxplot(data = hf3[featers]);"
   ]
  },
  {
   "cell_type": "code",
   "execution_count": 157,
   "metadata": {
    "scrolled": true
   },
   "outputs": [
    {
     "data": {
      "image/png": "[encoded data removed]",
      "text/plain": [
       "<Figure size 432x288 with 1 Axes>"
      ]
     },
     "metadata": {
      "needs_background": "light"
     },
     "output_type": "display_data"
    }
   ],
   "source": [
    "# По годам все падает равномерно\n",
    "sns.countplot(x = 'year', hue = 'auc', data = hf3);"
   ]
  },
  {
   "cell_type": "code",
   "execution_count": 158,
   "metadata": {},
   "outputs": [
    {
     "data": {
      "image/png": "[encoded data removed]",
      "text/plain": [
       "<Figure size 432x288 with 1 Axes>"
      ]
     },
     "metadata": {
      "needs_background": "light"
     },
     "output_type": "display_data"
    }
   ],
   "source": [
    "# 3.5 преобладает, а в 2014 году сильно падают R & 4\n",
    "sns.countplot(x = 'year', hue = 'score', data = hf3, );"
   ]
  },
  {
   "cell_type": "markdown",
   "metadata": {},
   "source": [
    "***Делаем one-hot категориальных колонок***"
   ]
  },
  {
   "cell_type": "code",
   "execution_count": 159,
   "metadata": {},
   "outputs": [
    {
     "data": {
      "text/plain": [
       "1538"
      ]
     },
     "execution_count": 159,
     "metadata": {},
     "output_type": "execute_result"
    }
   ],
   "source": [
    "# Смотрим, сколько строк в обучающем наборе и запоминаем, потом делить на трэйн и тест будем по этому значению\n",
    "m = hf3.shape[0]\n",
    "m"
   ]
  },
  {
   "cell_type": "code",
   "execution_count": 160,
   "metadata": {},
   "outputs": [
    {
     "data": {
      "text/plain": [
       "True"
      ]
     },
     "execution_count": 160,
     "metadata": {},
     "output_type": "execute_result"
    }
   ],
   "source": [
    "# Объединяем оба датасета\n",
    "h_end = pd.concat([hf3, ht3], axis=0)\n",
    "\n",
    "# Думаю, где индексы объединить, здесь неверно, потом км не прикручивается\n",
    "# h_end.reset_index(drop=True, inplace=True)\n",
    "\n",
    "# Проверяем, чтобы по строкам объединились!\n",
    "h_end.shape[0] == hf3.shape[0] + ht3.shape[0]"
   ]
  },
  {
   "cell_type": "code",
   "execution_count": 161,
   "metadata": {},
   "outputs": [],
   "source": [
    "# Категориальная часть признаков\n",
    "hf_cat = h_end[cat_col]"
   ]
  },
  {
   "cell_type": "code",
   "execution_count": 162,
   "metadata": {},
   "outputs": [
    {
     "name": "stdout",
     "output_type": "stream",
     "text": [
      "<class 'pandas.core.frame.DataFrame'>\n",
      "Int64Index: 1545 entries, 0 to 7\n",
      "Data columns (total 5 columns):\n",
      " #   Column  Non-Null Count  Dtype \n",
      "---  ------  --------------  ----- \n",
      " 0   auc     1545 non-null   object\n",
      " 1   mod     1545 non-null   object\n",
      " 2   year    1545 non-null   object\n",
      " 3   color   1545 non-null   object\n",
      " 4   score   1545 non-null   object\n",
      "dtypes: object(5)\n",
      "memory usage: 72.4+ KB\n"
     ]
    }
   ],
   "source": [
    "hf_cat.info()"
   ]
  },
  {
   "cell_type": "code",
   "execution_count": 163,
   "metadata": {},
   "outputs": [
    {
     "data": {
      "text/html": [
       "<div>\n",
       "<style scoped>\n",
       "    .dataframe tbody tr th:only-of-type {\n",
       "        vertical-align: middle;\n",
       "    }\n",
       "\n",
       "    .dataframe tbody tr th {\n",
       "        vertical-align: top;\n",
       "    }\n",
       "\n",
       "    .dataframe thead th {\n",
       "        text-align: right;\n",
       "    }\n",
       "</style>\n",
       "<table border=\"1\" class=\"dataframe\">\n",
       "  <thead>\n",
       "    <tr style=\"text-align: right;\">\n",
       "      <th></th>\n",
       "      <th>auc</th>\n",
       "      <th>mod</th>\n",
       "      <th>year</th>\n",
       "      <th>color</th>\n",
       "      <th>score</th>\n",
       "    </tr>\n",
       "  </thead>\n",
       "  <tbody>\n",
       "    <tr>\n",
       "      <th>0</th>\n",
       "      <td>Toyota</td>\n",
       "      <td>PREM</td>\n",
       "      <td>2012</td>\n",
       "      <td>GRAY</td>\n",
       "      <td>R</td>\n",
       "    </tr>\n",
       "    <tr>\n",
       "      <th>1</th>\n",
       "      <td>Toyota</td>\n",
       "      <td>SMART</td>\n",
       "      <td>2011</td>\n",
       "      <td>BLACK</td>\n",
       "      <td>2</td>\n",
       "    </tr>\n",
       "    <tr>\n",
       "      <th>2</th>\n",
       "      <td>Toyota</td>\n",
       "      <td>SMART</td>\n",
       "      <td>2011</td>\n",
       "      <td>PEARL</td>\n",
       "      <td>3</td>\n",
       "    </tr>\n",
       "    <tr>\n",
       "      <th>3</th>\n",
       "      <td>Toyota</td>\n",
       "      <td>PREM</td>\n",
       "      <td>2011</td>\n",
       "      <td>BLUE</td>\n",
       "      <td>RA</td>\n",
       "    </tr>\n",
       "    <tr>\n",
       "      <th>4</th>\n",
       "      <td>Arai</td>\n",
       "      <td>PREM</td>\n",
       "      <td>2011</td>\n",
       "      <td>GRAY</td>\n",
       "      <td>4</td>\n",
       "    </tr>\n",
       "    <tr>\n",
       "      <th>5</th>\n",
       "      <td>Arai</td>\n",
       "      <td>PREM</td>\n",
       "      <td>2011</td>\n",
       "      <td>SILVER</td>\n",
       "      <td>RA</td>\n",
       "    </tr>\n",
       "    <tr>\n",
       "      <th>7</th>\n",
       "      <td>Arai</td>\n",
       "      <td>PREM</td>\n",
       "      <td>2011</td>\n",
       "      <td>PEARL</td>\n",
       "      <td>3.5</td>\n",
       "    </tr>\n",
       "  </tbody>\n",
       "</table>\n",
       "</div>"
      ],
      "text/plain": [
       "      auc    mod  year   color score\n",
       "0  Toyota   PREM  2012    GRAY     R\n",
       "1  Toyota  SMART  2011   BLACK     2\n",
       "2  Toyota  SMART  2011   PEARL     3\n",
       "3  Toyota   PREM  2011    BLUE    RA\n",
       "4    Arai   PREM  2011    GRAY     4\n",
       "5    Arai   PREM  2011  SILVER    RA\n",
       "7    Arai   PREM  2011   PEARL   3.5"
      ]
     },
     "execution_count": 163,
     "metadata": {},
     "output_type": "execute_result"
    }
   ],
   "source": [
    "hf_cat.iloc[1538:, :]"
   ]
  },
  {
   "cell_type": "code",
   "execution_count": 164,
   "metadata": {},
   "outputs": [],
   "source": [
    "hf_cat_OH = pd.get_dummies(hf_cat)"
   ]
  },
  {
   "cell_type": "code",
   "execution_count": 165,
   "metadata": {
    "scrolled": true
   },
   "outputs": [
    {
     "data": {
      "text/plain": [
       "(1545, 42)"
      ]
     },
     "execution_count": 165,
     "metadata": {},
     "output_type": "execute_result"
    }
   ],
   "source": [
    "hf_cat_OH.shape"
   ]
  },
  {
   "cell_type": "markdown",
   "metadata": {},
   "source": [
    "***Масштабируем km***"
   ]
  },
  {
   "cell_type": "code",
   "execution_count": 166,
   "metadata": {
    "scrolled": true
   },
   "outputs": [
    {
     "data": {
      "text/plain": [
       "\"\\nmean_km = hf3['km'].describe()['mean']\\nstd_km = hf3['km'].describe()['std']\\n\\nhf3['km'] = hf3['km'].apply(lambda km: (km - mean_km) / std_km)\\n\\nmean_t_km = ht3['km'].describe()['mean']\\nstd_t_km = ht3['km'].describe()['std']\\n\\nht3['km'] = ht3['km'].apply(lambda km: (km - mean_t_km) / std_t_km)\\n\\n# Посмотрим на значения, получилось отлично\\nhf3['km'].describe()\\n\""
      ]
     },
     "execution_count": 166,
     "metadata": {},
     "output_type": "execute_result"
    }
   ],
   "source": [
    "\"\"\"\n",
    "mean_km = hf3['km'].describe()['mean']\n",
    "std_km = hf3['km'].describe()['std']\n",
    "\n",
    "hf3['km'] = hf3['km'].apply(lambda km: (km - mean_km) / std_km)\n",
    "\n",
    "mean_t_km = ht3['km'].describe()['mean']\n",
    "std_t_km = ht3['km'].describe()['std']\n",
    "\n",
    "ht3['km'] = ht3['km'].apply(lambda km: (km - mean_t_km) / std_t_km)\n",
    "\n",
    "# Посмотрим на значения, получилось отлично\n",
    "hf3['km'].describe()\n",
    "\"\"\""
   ]
  },
  {
   "cell_type": "markdown",
   "metadata": {},
   "source": [
    "***Завершаем, формируем Х и у***"
   ]
  },
  {
   "cell_type": "code",
   "execution_count": 167,
   "metadata": {},
   "outputs": [
    {
     "data": {
      "text/plain": [
       "(1545,)"
      ]
     },
     "execution_count": 167,
     "metadata": {},
     "output_type": "execute_result"
    }
   ],
   "source": [
    "# Общий столбец с км\n",
    "\n",
    "km = pd.concat([hf3['km'], ht3['km']], axis=0)\n",
    "km.shape"
   ]
  },
  {
   "cell_type": "code",
   "execution_count": 168,
   "metadata": {},
   "outputs": [
    {
     "data": {
      "text/plain": [
       "(1545, 43)"
      ]
     },
     "execution_count": 168,
     "metadata": {},
     "output_type": "execute_result"
    }
   ],
   "source": [
    "# Вот конечный датасет! Его делим вручную на обучающие выборки и тестовые\n",
    "# А можем часть целиком использовать как трэйн, а по части данных сделать предикт\n",
    "hf4 = pd.concat([hf_cat_OH, km], axis=1)\n",
    "hf4.shape"
   ]
  },
  {
   "cell_type": "markdown",
   "metadata": {},
   "source": [
    "***Это для тестирования на всех данных, которые известны***"
   ]
  },
  {
   "cell_type": "code",
   "execution_count": 169,
   "metadata": {},
   "outputs": [
    {
     "data": {
      "text/plain": [
       "(1538, 43)"
      ]
     },
     "execution_count": 169,
     "metadata": {},
     "output_type": "execute_result"
    }
   ],
   "source": [
    "X_t = hf4.iloc[:1538, :]\n",
    "X_t.shape"
   ]
  },
  {
   "cell_type": "code",
   "execution_count": 170,
   "metadata": {},
   "outputs": [
    {
     "data": {
      "text/plain": [
       "Index(['auc_AUCNET', 'auc_Arai', 'auc_BAYAUC', 'auc_CAA', 'auc_Honda',\n",
       "       'auc_JU', 'auc_LAA', 'auc_Mirive', 'auc_Nissan', 'auc_Orix',\n",
       "       'auc_Toyota', 'mod_C', 'mod_FA IN LINE', 'mod_PREM', 'mod_SMART',\n",
       "       'year_2011', 'year_2012', 'year_2013', 'year_2014', 'year_2015',\n",
       "       'color_BLACK', 'color_BLUE', 'color_BLUE GREEN', 'color_BROWN',\n",
       "       'color_GRAY', 'color_GREEN', 'color_PEARL', 'color_PEARL WHITE',\n",
       "       'color_PURPLE', 'color_RED', 'color_SILVER', 'color_TEA', 'color_WHITE',\n",
       "       'score_2', 'score_3', 'score_3.5', 'score_4', 'score_4.5', 'score_***',\n",
       "       'score_-', 'score_R', 'score_RA', 'km'],\n",
       "      dtype='object')"
      ]
     },
     "execution_count": 170,
     "metadata": {},
     "output_type": "execute_result"
    }
   ],
   "source": [
    "X_t.columns"
   ]
  },
  {
   "cell_type": "code",
   "execution_count": 171,
   "metadata": {},
   "outputs": [
    {
     "data": {
      "text/plain": [
       "(1538,)"
      ]
     },
     "execution_count": 171,
     "metadata": {},
     "output_type": "execute_result"
    }
   ],
   "source": [
    "y_t = hf3['cost']\n",
    "y_t.shape"
   ]
  },
  {
   "cell_type": "markdown",
   "metadata": {},
   "source": [
    "## Sklearn"
   ]
  },
  {
   "cell_type": "code",
   "execution_count": 172,
   "metadata": {},
   "outputs": [
    {
     "data": {
      "text/plain": [
       "((1076, 43), (462, 43), (1076,), (462,))"
      ]
     },
     "execution_count": 172,
     "metadata": {},
     "output_type": "execute_result"
    }
   ],
   "source": [
    "# Разделим данные для тестирования\n",
    "from sklearn.model_selection import train_test_split\n",
    "\n",
    "X_train, X_test, y_train, y_test = train_test_split(X_t, y_t, train_size=0.7, random_state=42)\n",
    "\n",
    "# Посмотрим результат!\n",
    "X_train.shape, X_test.shape, y_train.shape, y_test.shape"
   ]
  },
  {
   "cell_type": "code",
   "execution_count": 173,
   "metadata": {},
   "outputs": [],
   "source": [
    "from sklearn.linear_model import LinearRegression, Lasso, Ridge"
   ]
  },
  {
   "cell_type": "code",
   "execution_count": 174,
   "metadata": {},
   "outputs": [],
   "source": [
    "model = LinearRegression().fit(X_train, y_train)"
   ]
  },
  {
   "cell_type": "code",
   "execution_count": 175,
   "metadata": {},
   "outputs": [
    {
     "data": {
      "text/plain": [
       "0.5663137223057153"
      ]
     },
     "execution_count": 175,
     "metadata": {},
     "output_type": "execute_result"
    }
   ],
   "source": [
    "# Не совсем понятно, что показывает скор. Хорошо это или плохо? Идеально 1, плохо 0 и сколь-угодно в минус\n",
    "model.score(X_test, y_test)"
   ]
  },
  {
   "cell_type": "code",
   "execution_count": 176,
   "metadata": {
    "scrolled": true
   },
   "outputs": [],
   "source": [
    "from sklearn.metrics import mean_squared_error"
   ]
  },
  {
   "cell_type": "code",
   "execution_count": 177,
   "metadata": {},
   "outputs": [],
   "source": [
    "predict_tr = model.predict(X_train)\n",
    "predict_tst = model.predict(X_test)"
   ]
  },
  {
   "cell_type": "code",
   "execution_count": 178,
   "metadata": {},
   "outputs": [
    {
     "name": "stdout",
     "output_type": "stream",
     "text": [
      "5378.149240488035\n",
      "5968.343140399561\n"
     ]
    }
   ],
   "source": [
    "# Средне-квадратичная ошибка! Как то веливовато(\n",
    "print(mean_squared_error(y_train, predict_tr))\n",
    "print(mean_squared_error(y_test, predict_tst))"
   ]
  },
  {
   "cell_type": "markdown",
   "metadata": {},
   "source": [
    "***Если хотим поиграться, напишем ф-ю для линейной регресии и ее оценки по MSE и MAE. MAE в данном случае мне кажется предпочтительнее*** "
   ]
  },
  {
   "cell_type": "code",
   "execution_count": 91,
   "metadata": {},
   "outputs": [],
   "source": [
    "def mae_linreg(X, y):\n",
    "    \n",
    "    X_train, X_test, y_train, y_test = train_test_split(X, y, train_size=0.7,random_state=42)\n",
    "    \n",
    "    lr = LinearRegression().fit(X_train, y_train)\n",
    "    lr_pred = lr.predict(X_test)\n",
    "        \n",
    "    return mean_absolute_error(y_test, lr_pred)"
   ]
  },
  {
   "cell_type": "markdown",
   "metadata": {},
   "source": [
    "### Возьмем другую выборку.\n",
    "\n",
    "Не будем ничего делить. Возьмем весь датасет X_t как X_train,"
   ]
  },
  {
   "cell_type": "code",
   "execution_count": 179,
   "metadata": {},
   "outputs": [],
   "source": [
    "X_train = hf4.iloc[:1538, :]\n",
    "X_test = hf4.iloc[1538:, :]\n",
    "y_train = hf4.iloc[:1538, :]"
   ]
  },
  {
   "cell_type": "code",
   "execution_count": 180,
   "metadata": {},
   "outputs": [
    {
     "name": "stdout",
     "output_type": "stream",
     "text": [
      "<class 'pandas.core.frame.DataFrame'>\n",
      "Int64Index: 1545 entries, 0 to 7\n",
      "Data columns (total 43 columns):\n",
      " #   Column             Non-Null Count  Dtype\n",
      "---  ------             --------------  -----\n",
      " 0   auc_AUCNET         1545 non-null   uint8\n",
      " 1   auc_Arai           1545 non-null   uint8\n",
      " 2   auc_BAYAUC         1545 non-null   uint8\n",
      " 3   auc_CAA            1545 non-null   uint8\n",
      " 4   auc_Honda          1545 non-null   uint8\n",
      " 5   auc_JU             1545 non-null   uint8\n",
      " 6   auc_LAA            1545 non-null   uint8\n",
      " 7   auc_Mirive         1545 non-null   uint8\n",
      " 8   auc_Nissan         1545 non-null   uint8\n",
      " 9   auc_Orix           1545 non-null   uint8\n",
      " 10  auc_Toyota         1545 non-null   uint8\n",
      " 11  mod_C              1545 non-null   uint8\n",
      " 12  mod_FA IN LINE     1545 non-null   uint8\n",
      " 13  mod_PREM           1545 non-null   uint8\n",
      " 14  mod_SMART          1545 non-null   uint8\n",
      " 15  year_2011          1545 non-null   uint8\n",
      " 16  year_2012          1545 non-null   uint8\n",
      " 17  year_2013          1545 non-null   uint8\n",
      " 18  year_2014          1545 non-null   uint8\n",
      " 19  year_2015          1545 non-null   uint8\n",
      " 20  color_BLACK        1545 non-null   uint8\n",
      " 21  color_BLUE         1545 non-null   uint8\n",
      " 22  color_BLUE GREEN   1545 non-null   uint8\n",
      " 23  color_BROWN        1545 non-null   uint8\n",
      " 24  color_GRAY         1545 non-null   uint8\n",
      " 25  color_GREEN        1545 non-null   uint8\n",
      " 26  color_PEARL        1545 non-null   uint8\n",
      " 27  color_PEARL WHITE  1545 non-null   uint8\n",
      " 28  color_PURPLE       1545 non-null   uint8\n",
      " 29  color_RED          1545 non-null   uint8\n",
      " 30  color_SILVER       1545 non-null   uint8\n",
      " 31  color_TEA          1545 non-null   uint8\n",
      " 32  color_WHITE        1545 non-null   uint8\n",
      " 33  score_2            1545 non-null   uint8\n",
      " 34  score_3            1545 non-null   uint8\n",
      " 35  score_3.5          1545 non-null   uint8\n",
      " 36  score_4            1545 non-null   uint8\n",
      " 37  score_4.5          1545 non-null   uint8\n",
      " 38  score_***          1545 non-null   uint8\n",
      " 39  score_-            1545 non-null   uint8\n",
      " 40  score_R            1545 non-null   uint8\n",
      " 41  score_RA           1545 non-null   uint8\n",
      " 42  km                 1545 non-null   int64\n",
      "dtypes: int64(1), uint8(42)\n",
      "memory usage: 87.5 KB\n"
     ]
    }
   ],
   "source": [
    "hf4.info()"
   ]
  },
  {
   "cell_type": "code",
   "execution_count": 181,
   "metadata": {},
   "outputs": [],
   "source": [
    "mod_linreg1 = LinearRegression()\n",
    "linreg1 = mod_linreg1.fit(X_train, y_train)"
   ]
  },
  {
   "cell_type": "code",
   "execution_count": 182,
   "metadata": {},
   "outputs": [],
   "source": [
    "lr_test_pred1 = linreg1.predict(X_test)"
   ]
  },
  {
   "cell_type": "code",
   "execution_count": 183,
   "metadata": {},
   "outputs": [
    {
     "data": {
      "text/plain": [
       "(7, 43)"
      ]
     },
     "execution_count": 183,
     "metadata": {},
     "output_type": "execute_result"
    }
   ],
   "source": [
    "lr_test_pred1.shape"
   ]
  },
  {
   "cell_type": "code",
   "execution_count": 184,
   "metadata": {},
   "outputs": [
    {
     "data": {
      "text/plain": [
       "array([[ 1.08246745e-15, -7.93809463e-15,  2.16493490e-15,\n",
       "         1.83186799e-15,  6.86950496e-15, -4.74620343e-15,\n",
       "         1.17961196e-15, -9.71445147e-17,  5.96744876e-16,\n",
       "         8.60422844e-16,  1.00000000e+00, -1.22124533e-15,\n",
       "         0.00000000e+00,  1.00000000e+00,  1.66533454e-15,\n",
       "        -1.24900090e-15,  1.00000000e+00,  3.21964677e-15,\n",
       "         8.32667268e-17, -2.02615702e-15, -2.10942375e-15,\n",
       "         1.16573418e-15,  7.07767178e-16, -1.73472348e-15,\n",
       "         1.00000000e+00,  2.88657986e-15,  1.91513472e-15,\n",
       "         1.01307851e-15,  8.74300632e-16, -3.19189120e-16,\n",
       "        -1.58206781e-15, -1.11022302e-16,  1.26287869e-15,\n",
       "        -4.16333634e-17, -1.29063427e-15,  1.70696790e-15,\n",
       "        -3.88578059e-16,  1.38777878e-16,  3.74700271e-16,\n",
       "         1.66533454e-16,  1.00000000e+00,  1.66533454e-16,\n",
       "         1.02000000e+02]])"
      ]
     },
     "execution_count": 184,
     "metadata": {},
     "output_type": "execute_result"
    }
   ],
   "source": [
    "lr_test_pred1[:1, :43]"
   ]
  },
  {
   "cell_type": "code",
   "execution_count": 185,
   "metadata": {},
   "outputs": [
    {
     "data": {
      "text/plain": [
       "(7, 43)"
      ]
     },
     "execution_count": 185,
     "metadata": {},
     "output_type": "execute_result"
    }
   ],
   "source": [
    "X_test.shape"
   ]
  },
  {
   "cell_type": "code",
   "execution_count": 186,
   "metadata": {},
   "outputs": [
    {
     "data": {
      "text/html": [
       "<div>\n",
       "<style scoped>\n",
       "    .dataframe tbody tr th:only-of-type {\n",
       "        vertical-align: middle;\n",
       "    }\n",
       "\n",
       "    .dataframe tbody tr th {\n",
       "        vertical-align: top;\n",
       "    }\n",
       "\n",
       "    .dataframe thead th {\n",
       "        text-align: right;\n",
       "    }\n",
       "</style>\n",
       "<table border=\"1\" class=\"dataframe\">\n",
       "  <thead>\n",
       "    <tr style=\"text-align: right;\">\n",
       "      <th></th>\n",
       "      <th>0</th>\n",
       "      <th>1</th>\n",
       "      <th>2</th>\n",
       "      <th>3</th>\n",
       "      <th>4</th>\n",
       "      <th>5</th>\n",
       "      <th>7</th>\n",
       "    </tr>\n",
       "  </thead>\n",
       "  <tbody>\n",
       "    <tr>\n",
       "      <th>auc_AUCNET</th>\n",
       "      <td>0</td>\n",
       "      <td>0</td>\n",
       "      <td>0</td>\n",
       "      <td>0</td>\n",
       "      <td>0</td>\n",
       "      <td>0</td>\n",
       "      <td>0</td>\n",
       "    </tr>\n",
       "    <tr>\n",
       "      <th>auc_Arai</th>\n",
       "      <td>0</td>\n",
       "      <td>0</td>\n",
       "      <td>0</td>\n",
       "      <td>0</td>\n",
       "      <td>1</td>\n",
       "      <td>1</td>\n",
       "      <td>1</td>\n",
       "    </tr>\n",
       "    <tr>\n",
       "      <th>auc_BAYAUC</th>\n",
       "      <td>0</td>\n",
       "      <td>0</td>\n",
       "      <td>0</td>\n",
       "      <td>0</td>\n",
       "      <td>0</td>\n",
       "      <td>0</td>\n",
       "      <td>0</td>\n",
       "    </tr>\n",
       "    <tr>\n",
       "      <th>auc_CAA</th>\n",
       "      <td>0</td>\n",
       "      <td>0</td>\n",
       "      <td>0</td>\n",
       "      <td>0</td>\n",
       "      <td>0</td>\n",
       "      <td>0</td>\n",
       "      <td>0</td>\n",
       "    </tr>\n",
       "    <tr>\n",
       "      <th>auc_Honda</th>\n",
       "      <td>0</td>\n",
       "      <td>0</td>\n",
       "      <td>0</td>\n",
       "      <td>0</td>\n",
       "      <td>0</td>\n",
       "      <td>0</td>\n",
       "      <td>0</td>\n",
       "    </tr>\n",
       "    <tr>\n",
       "      <th>auc_JU</th>\n",
       "      <td>0</td>\n",
       "      <td>0</td>\n",
       "      <td>0</td>\n",
       "      <td>0</td>\n",
       "      <td>0</td>\n",
       "      <td>0</td>\n",
       "      <td>0</td>\n",
       "    </tr>\n",
       "    <tr>\n",
       "      <th>auc_LAA</th>\n",
       "      <td>0</td>\n",
       "      <td>0</td>\n",
       "      <td>0</td>\n",
       "      <td>0</td>\n",
       "      <td>0</td>\n",
       "      <td>0</td>\n",
       "      <td>0</td>\n",
       "    </tr>\n",
       "    <tr>\n",
       "      <th>auc_Mirive</th>\n",
       "      <td>0</td>\n",
       "      <td>0</td>\n",
       "      <td>0</td>\n",
       "      <td>0</td>\n",
       "      <td>0</td>\n",
       "      <td>0</td>\n",
       "      <td>0</td>\n",
       "    </tr>\n",
       "    <tr>\n",
       "      <th>auc_Nissan</th>\n",
       "      <td>0</td>\n",
       "      <td>0</td>\n",
       "      <td>0</td>\n",
       "      <td>0</td>\n",
       "      <td>0</td>\n",
       "      <td>0</td>\n",
       "      <td>0</td>\n",
       "    </tr>\n",
       "    <tr>\n",
       "      <th>auc_Orix</th>\n",
       "      <td>0</td>\n",
       "      <td>0</td>\n",
       "      <td>0</td>\n",
       "      <td>0</td>\n",
       "      <td>0</td>\n",
       "      <td>0</td>\n",
       "      <td>0</td>\n",
       "    </tr>\n",
       "    <tr>\n",
       "      <th>auc_Toyota</th>\n",
       "      <td>1</td>\n",
       "      <td>1</td>\n",
       "      <td>1</td>\n",
       "      <td>1</td>\n",
       "      <td>0</td>\n",
       "      <td>0</td>\n",
       "      <td>0</td>\n",
       "    </tr>\n",
       "    <tr>\n",
       "      <th>mod_C</th>\n",
       "      <td>0</td>\n",
       "      <td>0</td>\n",
       "      <td>0</td>\n",
       "      <td>0</td>\n",
       "      <td>0</td>\n",
       "      <td>0</td>\n",
       "      <td>0</td>\n",
       "    </tr>\n",
       "    <tr>\n",
       "      <th>mod_FA IN LINE</th>\n",
       "      <td>0</td>\n",
       "      <td>0</td>\n",
       "      <td>0</td>\n",
       "      <td>0</td>\n",
       "      <td>0</td>\n",
       "      <td>0</td>\n",
       "      <td>0</td>\n",
       "    </tr>\n",
       "    <tr>\n",
       "      <th>mod_PREM</th>\n",
       "      <td>1</td>\n",
       "      <td>0</td>\n",
       "      <td>0</td>\n",
       "      <td>1</td>\n",
       "      <td>1</td>\n",
       "      <td>1</td>\n",
       "      <td>1</td>\n",
       "    </tr>\n",
       "    <tr>\n",
       "      <th>mod_SMART</th>\n",
       "      <td>0</td>\n",
       "      <td>1</td>\n",
       "      <td>1</td>\n",
       "      <td>0</td>\n",
       "      <td>0</td>\n",
       "      <td>0</td>\n",
       "      <td>0</td>\n",
       "    </tr>\n",
       "    <tr>\n",
       "      <th>year_2011</th>\n",
       "      <td>0</td>\n",
       "      <td>1</td>\n",
       "      <td>1</td>\n",
       "      <td>1</td>\n",
       "      <td>1</td>\n",
       "      <td>1</td>\n",
       "      <td>1</td>\n",
       "    </tr>\n",
       "    <tr>\n",
       "      <th>year_2012</th>\n",
       "      <td>1</td>\n",
       "      <td>0</td>\n",
       "      <td>0</td>\n",
       "      <td>0</td>\n",
       "      <td>0</td>\n",
       "      <td>0</td>\n",
       "      <td>0</td>\n",
       "    </tr>\n",
       "    <tr>\n",
       "      <th>year_2013</th>\n",
       "      <td>0</td>\n",
       "      <td>0</td>\n",
       "      <td>0</td>\n",
       "      <td>0</td>\n",
       "      <td>0</td>\n",
       "      <td>0</td>\n",
       "      <td>0</td>\n",
       "    </tr>\n",
       "    <tr>\n",
       "      <th>year_2014</th>\n",
       "      <td>0</td>\n",
       "      <td>0</td>\n",
       "      <td>0</td>\n",
       "      <td>0</td>\n",
       "      <td>0</td>\n",
       "      <td>0</td>\n",
       "      <td>0</td>\n",
       "    </tr>\n",
       "    <tr>\n",
       "      <th>year_2015</th>\n",
       "      <td>0</td>\n",
       "      <td>0</td>\n",
       "      <td>0</td>\n",
       "      <td>0</td>\n",
       "      <td>0</td>\n",
       "      <td>0</td>\n",
       "      <td>0</td>\n",
       "    </tr>\n",
       "    <tr>\n",
       "      <th>color_BLACK</th>\n",
       "      <td>0</td>\n",
       "      <td>1</td>\n",
       "      <td>0</td>\n",
       "      <td>0</td>\n",
       "      <td>0</td>\n",
       "      <td>0</td>\n",
       "      <td>0</td>\n",
       "    </tr>\n",
       "    <tr>\n",
       "      <th>color_BLUE</th>\n",
       "      <td>0</td>\n",
       "      <td>0</td>\n",
       "      <td>0</td>\n",
       "      <td>1</td>\n",
       "      <td>0</td>\n",
       "      <td>0</td>\n",
       "      <td>0</td>\n",
       "    </tr>\n",
       "    <tr>\n",
       "      <th>color_BLUE GREEN</th>\n",
       "      <td>0</td>\n",
       "      <td>0</td>\n",
       "      <td>0</td>\n",
       "      <td>0</td>\n",
       "      <td>0</td>\n",
       "      <td>0</td>\n",
       "      <td>0</td>\n",
       "    </tr>\n",
       "    <tr>\n",
       "      <th>color_BROWN</th>\n",
       "      <td>0</td>\n",
       "      <td>0</td>\n",
       "      <td>0</td>\n",
       "      <td>0</td>\n",
       "      <td>0</td>\n",
       "      <td>0</td>\n",
       "      <td>0</td>\n",
       "    </tr>\n",
       "    <tr>\n",
       "      <th>color_GRAY</th>\n",
       "      <td>1</td>\n",
       "      <td>0</td>\n",
       "      <td>0</td>\n",
       "      <td>0</td>\n",
       "      <td>1</td>\n",
       "      <td>0</td>\n",
       "      <td>0</td>\n",
       "    </tr>\n",
       "    <tr>\n",
       "      <th>color_GREEN</th>\n",
       "      <td>0</td>\n",
       "      <td>0</td>\n",
       "      <td>0</td>\n",
       "      <td>0</td>\n",
       "      <td>0</td>\n",
       "      <td>0</td>\n",
       "      <td>0</td>\n",
       "    </tr>\n",
       "    <tr>\n",
       "      <th>color_PEARL</th>\n",
       "      <td>0</td>\n",
       "      <td>0</td>\n",
       "      <td>1</td>\n",
       "      <td>0</td>\n",
       "      <td>0</td>\n",
       "      <td>0</td>\n",
       "      <td>1</td>\n",
       "    </tr>\n",
       "    <tr>\n",
       "      <th>color_PEARL WHITE</th>\n",
       "      <td>0</td>\n",
       "      <td>0</td>\n",
       "      <td>0</td>\n",
       "      <td>0</td>\n",
       "      <td>0</td>\n",
       "      <td>0</td>\n",
       "      <td>0</td>\n",
       "    </tr>\n",
       "    <tr>\n",
       "      <th>color_PURPLE</th>\n",
       "      <td>0</td>\n",
       "      <td>0</td>\n",
       "      <td>0</td>\n",
       "      <td>0</td>\n",
       "      <td>0</td>\n",
       "      <td>0</td>\n",
       "      <td>0</td>\n",
       "    </tr>\n",
       "    <tr>\n",
       "      <th>color_RED</th>\n",
       "      <td>0</td>\n",
       "      <td>0</td>\n",
       "      <td>0</td>\n",
       "      <td>0</td>\n",
       "      <td>0</td>\n",
       "      <td>0</td>\n",
       "      <td>0</td>\n",
       "    </tr>\n",
       "    <tr>\n",
       "      <th>color_SILVER</th>\n",
       "      <td>0</td>\n",
       "      <td>0</td>\n",
       "      <td>0</td>\n",
       "      <td>0</td>\n",
       "      <td>0</td>\n",
       "      <td>1</td>\n",
       "      <td>0</td>\n",
       "    </tr>\n",
       "    <tr>\n",
       "      <th>color_TEA</th>\n",
       "      <td>0</td>\n",
       "      <td>0</td>\n",
       "      <td>0</td>\n",
       "      <td>0</td>\n",
       "      <td>0</td>\n",
       "      <td>0</td>\n",
       "      <td>0</td>\n",
       "    </tr>\n",
       "    <tr>\n",
       "      <th>color_WHITE</th>\n",
       "      <td>0</td>\n",
       "      <td>0</td>\n",
       "      <td>0</td>\n",
       "      <td>0</td>\n",
       "      <td>0</td>\n",
       "      <td>0</td>\n",
       "      <td>0</td>\n",
       "    </tr>\n",
       "    <tr>\n",
       "      <th>score_2</th>\n",
       "      <td>0</td>\n",
       "      <td>1</td>\n",
       "      <td>0</td>\n",
       "      <td>0</td>\n",
       "      <td>0</td>\n",
       "      <td>0</td>\n",
       "      <td>0</td>\n",
       "    </tr>\n",
       "    <tr>\n",
       "      <th>score_3</th>\n",
       "      <td>0</td>\n",
       "      <td>0</td>\n",
       "      <td>1</td>\n",
       "      <td>0</td>\n",
       "      <td>0</td>\n",
       "      <td>0</td>\n",
       "      <td>0</td>\n",
       "    </tr>\n",
       "    <tr>\n",
       "      <th>score_3.5</th>\n",
       "      <td>0</td>\n",
       "      <td>0</td>\n",
       "      <td>0</td>\n",
       "      <td>0</td>\n",
       "      <td>0</td>\n",
       "      <td>0</td>\n",
       "      <td>1</td>\n",
       "    </tr>\n",
       "    <tr>\n",
       "      <th>score_4</th>\n",
       "      <td>0</td>\n",
       "      <td>0</td>\n",
       "      <td>0</td>\n",
       "      <td>0</td>\n",
       "      <td>1</td>\n",
       "      <td>0</td>\n",
       "      <td>0</td>\n",
       "    </tr>\n",
       "    <tr>\n",
       "      <th>score_4.5</th>\n",
       "      <td>0</td>\n",
       "      <td>0</td>\n",
       "      <td>0</td>\n",
       "      <td>0</td>\n",
       "      <td>0</td>\n",
       "      <td>0</td>\n",
       "      <td>0</td>\n",
       "    </tr>\n",
       "    <tr>\n",
       "      <th>score_***</th>\n",
       "      <td>0</td>\n",
       "      <td>0</td>\n",
       "      <td>0</td>\n",
       "      <td>0</td>\n",
       "      <td>0</td>\n",
       "      <td>0</td>\n",
       "      <td>0</td>\n",
       "    </tr>\n",
       "    <tr>\n",
       "      <th>score_-</th>\n",
       "      <td>0</td>\n",
       "      <td>0</td>\n",
       "      <td>0</td>\n",
       "      <td>0</td>\n",
       "      <td>0</td>\n",
       "      <td>0</td>\n",
       "      <td>0</td>\n",
       "    </tr>\n",
       "    <tr>\n",
       "      <th>score_R</th>\n",
       "      <td>1</td>\n",
       "      <td>0</td>\n",
       "      <td>0</td>\n",
       "      <td>0</td>\n",
       "      <td>0</td>\n",
       "      <td>0</td>\n",
       "      <td>0</td>\n",
       "    </tr>\n",
       "    <tr>\n",
       "      <th>score_RA</th>\n",
       "      <td>0</td>\n",
       "      <td>0</td>\n",
       "      <td>0</td>\n",
       "      <td>1</td>\n",
       "      <td>0</td>\n",
       "      <td>1</td>\n",
       "      <td>0</td>\n",
       "    </tr>\n",
       "    <tr>\n",
       "      <th>km</th>\n",
       "      <td>102</td>\n",
       "      <td>96</td>\n",
       "      <td>90</td>\n",
       "      <td>63</td>\n",
       "      <td>69</td>\n",
       "      <td>55</td>\n",
       "      <td>154</td>\n",
       "    </tr>\n",
       "  </tbody>\n",
       "</table>\n",
       "</div>"
      ],
      "text/plain": [
       "                     0   1   2   3   4   5    7\n",
       "auc_AUCNET           0   0   0   0   0   0    0\n",
       "auc_Arai             0   0   0   0   1   1    1\n",
       "auc_BAYAUC           0   0   0   0   0   0    0\n",
       "auc_CAA              0   0   0   0   0   0    0\n",
       "auc_Honda            0   0   0   0   0   0    0\n",
       "auc_JU               0   0   0   0   0   0    0\n",
       "auc_LAA              0   0   0   0   0   0    0\n",
       "auc_Mirive           0   0   0   0   0   0    0\n",
       "auc_Nissan           0   0   0   0   0   0    0\n",
       "auc_Orix             0   0   0   0   0   0    0\n",
       "auc_Toyota           1   1   1   1   0   0    0\n",
       "mod_C                0   0   0   0   0   0    0\n",
       "mod_FA IN LINE       0   0   0   0   0   0    0\n",
       "mod_PREM             1   0   0   1   1   1    1\n",
       "mod_SMART            0   1   1   0   0   0    0\n",
       "year_2011            0   1   1   1   1   1    1\n",
       "year_2012            1   0   0   0   0   0    0\n",
       "year_2013            0   0   0   0   0   0    0\n",
       "year_2014            0   0   0   0   0   0    0\n",
       "year_2015            0   0   0   0   0   0    0\n",
       "color_BLACK          0   1   0   0   0   0    0\n",
       "color_BLUE           0   0   0   1   0   0    0\n",
       "color_BLUE GREEN     0   0   0   0   0   0    0\n",
       "color_BROWN          0   0   0   0   0   0    0\n",
       "color_GRAY           1   0   0   0   1   0    0\n",
       "color_GREEN          0   0   0   0   0   0    0\n",
       "color_PEARL          0   0   1   0   0   0    1\n",
       "color_PEARL WHITE    0   0   0   0   0   0    0\n",
       "color_PURPLE         0   0   0   0   0   0    0\n",
       "color_RED            0   0   0   0   0   0    0\n",
       "color_SILVER         0   0   0   0   0   1    0\n",
       "color_TEA            0   0   0   0   0   0    0\n",
       "color_WHITE          0   0   0   0   0   0    0\n",
       "score_2              0   1   0   0   0   0    0\n",
       "score_3              0   0   1   0   0   0    0\n",
       "score_3.5            0   0   0   0   0   0    1\n",
       "score_4              0   0   0   0   1   0    0\n",
       "score_4.5            0   0   0   0   0   0    0\n",
       "score_***            0   0   0   0   0   0    0\n",
       "score_-              0   0   0   0   0   0    0\n",
       "score_R              1   0   0   0   0   0    0\n",
       "score_RA             0   0   0   1   0   1    0\n",
       "km                 102  96  90  63  69  55  154"
      ]
     },
     "execution_count": 186,
     "metadata": {},
     "output_type": "execute_result"
    }
   ],
   "source": [
    "X_test.T"
   ]
  },
  {
   "cell_type": "code",
   "execution_count": 187,
   "metadata": {},
   "outputs": [],
   "source": [
    "ans = np.sum(lr_test_pred1 @ np.array(X_test).T, axis=1)"
   ]
  },
  {
   "cell_type": "code",
   "execution_count": 188,
   "metadata": {},
   "outputs": [
    {
     "data": {
      "text/plain": [
       "array([64171., 60398., 56625., 39645., 43418., 34612., 96883.])"
      ]
     },
     "execution_count": 188,
     "metadata": {},
     "output_type": "execute_result"
    }
   ],
   "source": [
    "ans"
   ]
  },
  {
   "cell_type": "code",
   "execution_count": 189,
   "metadata": {},
   "outputs": [],
   "source": [
    "answer = pd.concat([ht3, pd.DataFrame(ans)], axis=1)"
   ]
  },
  {
   "cell_type": "code",
   "execution_count": 190,
   "metadata": {},
   "outputs": [],
   "source": [
    "answer.to_excel('answer111_11_07.xlsx')"
   ]
  },
  {
   "cell_type": "markdown",
   "metadata": {},
   "source": [
    "## Попробуем лин рег только по километражу"
   ]
  },
  {
   "cell_type": "code",
   "execution_count": 191,
   "metadata": {},
   "outputs": [],
   "source": [
    "inter_feat = ['km', 'year']\n",
    "hf_sh = hf3[inter_feat] \n",
    "hf_cost = hf3['cost']\n",
    "hf_sh['year'] = hf_sh['year'].astype(int)"
   ]
  },
  {
   "cell_type": "code",
   "execution_count": 192,
   "metadata": {},
   "outputs": [],
   "source": [
    "inter_feat = ['km']\n",
    "hf_sh = hf3[inter_feat] \n",
    "hf_cost = hf3['cost']"
   ]
  },
  {
   "cell_type": "code",
   "execution_count": 193,
   "metadata": {},
   "outputs": [
    {
     "name": "stdout",
     "output_type": "stream",
     "text": [
      "<class 'pandas.core.frame.DataFrame'>\n",
      "Int64Index: 1538 entries, 0 to 1761\n",
      "Data columns (total 1 columns):\n",
      " #   Column  Non-Null Count  Dtype\n",
      "---  ------  --------------  -----\n",
      " 0   km      1538 non-null   int64\n",
      "dtypes: int64(1)\n",
      "memory usage: 24.0 KB\n"
     ]
    }
   ],
   "source": [
    "hf_sh.info()"
   ]
  },
  {
   "cell_type": "code",
   "execution_count": 194,
   "metadata": {},
   "outputs": [
    {
     "data": {
      "text/plain": [
       "((1076, 1), (462, 1), (1076,), (462,))"
      ]
     },
     "execution_count": 194,
     "metadata": {},
     "output_type": "execute_result"
    }
   ],
   "source": [
    "X_train, X_test, y_train, y_test = train_test_split(hf_sh, hf_cost, train_size=0.7, random_state=42)\n",
    "\n",
    "# Посмотрим результат!\n",
    "X_train.shape, X_test.shape, y_train.shape, y_test.shape"
   ]
  },
  {
   "cell_type": "code",
   "execution_count": 195,
   "metadata": {},
   "outputs": [],
   "source": [
    "scaler = StandardScaler()\n",
    "\n",
    "X_train_scal = scaler.fit_transform(X_train)\n",
    "X_test_scal = scaler.transform(X_test)"
   ]
  },
  {
   "cell_type": "code",
   "execution_count": 196,
   "metadata": {},
   "outputs": [
    {
     "data": {
      "text/plain": [
       "1153    103\n",
       "466     154\n",
       "360     384\n",
       "1685    227\n",
       "892     103\n",
       "       ... \n",
       "1308    282\n",
       "1488    195\n",
       "1003    215\n",
       "1669    168\n",
       "1304     96\n",
       "Name: cost, Length: 1076, dtype: int64"
      ]
     },
     "execution_count": 196,
     "metadata": {},
     "output_type": "execute_result"
    }
   ],
   "source": [
    "y_train"
   ]
  },
  {
   "cell_type": "code",
   "execution_count": 197,
   "metadata": {},
   "outputs": [],
   "source": [
    "model = LinearRegression().fit(X_train, y_train)"
   ]
  },
  {
   "cell_type": "code",
   "execution_count": 198,
   "metadata": {},
   "outputs": [
    {
     "data": {
      "text/plain": [
       "0.290804234765929"
      ]
     },
     "execution_count": 198,
     "metadata": {},
     "output_type": "execute_result"
    }
   ],
   "source": [
    "model.score(X_test, y_test)"
   ]
  },
  {
   "cell_type": "code",
   "execution_count": 199,
   "metadata": {},
   "outputs": [
    {
     "data": {
      "text/plain": [
       "array([[ 0.69171851],\n",
       "       [-0.55941186],\n",
       "       [-0.95977358],\n",
       "       ...,\n",
       "       [ 0.17458462],\n",
       "       [-0.29250405],\n",
       "       [ 2.67684536]])"
      ]
     },
     "execution_count": 199,
     "metadata": {},
     "output_type": "execute_result"
    }
   ],
   "source": [
    "X_train_scal"
   ]
  },
  {
   "cell_type": "markdown",
   "metadata": {},
   "source": [
    "### Без библ"
   ]
  },
  {
   "cell_type": "markdown",
   "metadata": {},
   "source": [
    "Функция стоимости\n",
    "$$\n",
    "J = {1}/{(2*m)} * \\sum_{i=1}^m (h(x_i) * y_i) ** 2; \n",
    "$$\n",
    "$$\n",
    "h(x_i) = \\theta' * X\n",
    "$$"
   ]
  },
  {
   "cell_type": "code",
   "execution_count": 75,
   "metadata": {},
   "outputs": [],
   "source": [
    "def cost_func(X, y, theta):\n",
    "    \n",
    "    \"\"\" Вернет J - стоимость на данной итерации\n",
    "        Расчет для построения графика зависимости J от кол-ва итераций\n",
    "        Для оценки работы GD \n",
    "        На вход:\n",
    "        - Х - матрица, размерностью m на n\n",
    "        - theta - вектор столбец весов, размерностью m на 1\n",
    "        - y - целевая переменная, вектор р-р m на 1.\n",
    "    \"\"\"\n",
    "    \n",
    "    m = len(y)\n",
    "    h = X.T * theta\n",
    "    pred = h - y\n",
    "    J = sum(pred ** 2) / (2 * m)\n",
    "    \n",
    "    return J\n"
   ]
  },
  {
   "cell_type": "code",
   "execution_count": 76,
   "metadata": {},
   "outputs": [],
   "source": [
    "init_theta = 0"
   ]
  },
  {
   "cell_type": "code",
   "execution_count": 77,
   "metadata": {},
   "outputs": [
    {
     "ename": "SyntaxError",
     "evalue": "invalid syntax (3015177543.py, line 6)",
     "output_type": "error",
     "traceback": [
      "\u001b[0;36m  File \u001b[0;32m\"/tmp/ipykernel_12674/3015177543.py\"\u001b[0;36m, line \u001b[0;32m6\u001b[0m\n\u001b[0;31m    theta = init_theta - alpha * sum(pred * )\u001b[0m\n\u001b[0m                                            ^\u001b[0m\n\u001b[0;31mSyntaxError\u001b[0m\u001b[0;31m:\u001b[0m invalid syntax\n"
     ]
    }
   ],
   "source": [
    "def grad_des(X, y, init_theta, alpha, num_iter):\n",
    "    \n",
    "    m = len(y)\n",
    "    h = X.T * theta\n",
    "    pred = h - y\n",
    "    theta = init_theta - alpha * sum(pred * ) "
   ]
  },
  {
   "cell_type": "code",
   "execution_count": null,
   "metadata": {},
   "outputs": [],
   "source": [
    "\"\"\"Стандартизируем, это не надо, все уже есть\n",
    "scaler = StandardScaler()\n",
    "X_train_scal = scaler.fit_transform(X_train)\n",
    "X_test_scal = scaler.transform(X_test)\"\"\""
   ]
  },
  {
   "cell_type": "code",
   "execution_count": 78,
   "metadata": {},
   "outputs": [],
   "source": [
    "hf_score = hf3[\"score\"]\n",
    "\n",
    "\n",
    "scaler = StandardScaler()\n",
    "hf_sc_st = scaler.fit_transform(X_train)\n",
    "X_test_scal = scaler.transform(X_test)"
   ]
  },
  {
   "cell_type": "markdown",
   "metadata": {},
   "source": [
    "## Логистическая регрессия, и возможно, другие алгоритмы"
   ]
  },
  {
   "cell_type": "markdown",
   "metadata": {},
   "source": [
    "**Не все просто с интерпретацией. Результат все же неудовлетворительный!**    \n",
    "Как вариант можно попробовать перейти от задачи линейной регрессии к задаче классификации. К задаче классификации с 2-мя (неравномерными) классами. Скажем, не в полной мере я понимаю, как это может помочь. Есть ощущение, что так мы искусственно сами делаем часть работы (даже, наверно, большую часть работы) за машину и ей остается построить \"линию\", отсекающую классы, что например, на графике км/цена, кажется легко достижимым.  \n",
    "Исходим из того, что у нас есть какой-то максимум бюджета в который нам надо уложиться. Предположим, что этот максимум - 400 тыс йен. Тогда, понимая, что мы хотим в этот бюджет взять нормальную машину, мы не расчитываем на поимку дешевого чуда, но небольшое чудо приветствуется, и не хотим рассматривать слишком дешевые ТС, така как там большой % некачественных машин. Тогда мы можем ограничить и нижнюю границу класса \"1\".  \n",
    "Предположим что нижняя граница - 370 тыс йен.При этом тактика ставок будет максимально простой. Ставка будет всегда одна и та же - примерно, середина интервала.  \n",
    "  \n",
    "***Тогда класс \"1\" - машины состоимостью 370 - 420. Остальные - класс \"0\"***  \n",
    "  \n",
    "Так здесь можно и не только лог рег использовать, и деревья и KNN и вместе собрать pipeline."
   ]
  },
  {
   "cell_type": "code",
   "execution_count": 229,
   "metadata": {},
   "outputs": [
    {
     "data": {
      "image/png": "[encoded data removed]",
      "text/plain": [
       "<Figure size 1440x720 with 1 Axes>"
      ]
     },
     "metadata": {
      "needs_background": "light"
     },
     "output_type": "display_data"
    }
   ],
   "source": [
    "fig = plt.figure(figsize=(20, 10))\n",
    "ax = fig.add_subplot()\n",
    "\n",
    "#fig.set(facecolor = 'red')\n",
    "#ax.set(facecolor = 'grey')  Совсем пестро\n",
    "ax.set_xlim(0, 400)\n",
    "ax.set_ylim(0, 800)\n",
    "ax.set_xlabel(\"Пробег, km\")\n",
    "ax.set_ylabel(\"Цена, yen\")\n",
    "\n",
    "ax.scatter(hf3['km'], hf3['cost'], color=\"red\")\n",
    "# То что будем выбирать\n",
    "ax.scatter(np.arange(0, 400, 4), [370 for _ in range(np.size(np.arange(0, 400, 4)))], color=\"green\")\n",
    "ax.scatter(np.arange(0, 400, 4), [420 for _ in range(np.size(np.arange(0, 400, 4)))], color=\"green\")\n",
    "# Больше для примера, что может попасть\n",
    "ax.scatter([50 for _ in range(np.size(np.arange(0, 800, 15)))], np.arange(0, 800, 15),  color=\"green\")\n",
    "ax.scatter([110 for _ in range(np.size(np.arange(0, 800, 15)))], np.arange(0, 800, 15),  color=\"green\")\n",
    "\n",
    "\n",
    "plt.show()"
   ]
  },
  {
   "cell_type": "markdown",
   "metadata": {},
   "source": [
    "**Так, наблюдение, а зачем нам изначально машины с пробегами более чем...? Может их сразу выкинуть из данных? Или они нужны? А когда их выкинуть, до или после обучения?**"
   ]
  },
  {
   "cell_type": "code",
   "execution_count": null,
   "metadata": {},
   "outputs": [],
   "source": []
  }
 ],
 "metadata": {
  "kernelspec": {
   "display_name": "Python 3 (ipykernel)",
   "language": "python",
   "name": "python3"
  },
  "language_info": {
   "codemirror_mode": {
    "name": "ipython",
    "version": 3
   },
   "file_extension": ".py",
   "mimetype": "text/x-python",
   "name": "python",
   "nbconvert_exporter": "python",
   "pygments_lexer": "ipython3",
   "version": "3.9.15"
  }
 },
 "nbformat": 4,
 "nbformat_minor": 2
}
